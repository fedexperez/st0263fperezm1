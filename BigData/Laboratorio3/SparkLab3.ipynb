{
 "cells": [
  {
   "cell_type": "code",
   "execution_count": null,
   "metadata": {},
   "outputs": [],
   "source": [
    "#import SparkSession\n",
    "from pyspark.sql import SparkSession\n",
    "import pyspark.sql.functions as F\n",
    "from pyspark.sql.functions import col\n",
    "from pyspark.sql.functions import desc"
   ]
  },
  {
   "cell_type": "code",
   "execution_count": null,
   "metadata": {},
   "outputs": [],
   "source": [
    "#create spar session object\n",
    "spark=SparkSession.builder.appName('data_processing').getOrCreate()"
   ]
  },
  {
   "cell_type": "code",
   "execution_count": null,
   "metadata": {},
   "outputs": [],
   "source": [
    "# Load csv Dataset \n",
    "df=spark.read.csv('s3://datasetsfperezm1/covid/Casos_positivos_de_COVID-19_en_Colombia.csv',inferSchema=True,header=True)"
   ]
  },
  {
   "cell_type": "code",
   "execution_count": null,
   "metadata": {},
   "outputs": [],
   "source": [
    "#2.1 columns of dataframe\n",
    "df.columns"
   ]
  },
  {
   "cell_type": "code",
   "execution_count": null,
   "metadata": {},
   "outputs": [],
   "source": [
    "#2.2 printSchema - types \n",
    "df.printSchema()"
   ]
  },
  {
   "cell_type": "code",
   "execution_count": null,
   "metadata": {},
   "outputs": [],
   "source": [
    "#2.3 select some columns\n",
    "df.select('fecha reporte web','Nombre departamento','Edad').show(5)"
   ]
  },
  {
   "cell_type": "code",
   "execution_count": null,
   "metadata": {},
   "outputs": [],
   "source": [
    "#2.4 Add new Column\n",
    "df = df.withColumn(\"EdadNegativa\", -1*F.col(\"Edad\"))\n",
    "df.select('EdadNegativa','Edad').show(5)"
   ]
  },
  {
   "cell_type": "code",
   "execution_count": null,
   "metadata": {},
   "outputs": [],
   "source": [
    "#2.5 Delete column\n",
    "df2 = df.drop('EdadNegativa')\n",
    "df2.printSchema()"
   ]
  },
  {
   "cell_type": "code",
   "execution_count": null,
   "metadata": {},
   "outputs": [],
   "source": [
    "#2.6 filter data\n",
    "df.filter(df.Edad == 20).show(5, truncate=False)"
   ]
  },
  {
   "cell_type": "code",
   "execution_count": null,
   "metadata": {},
   "outputs": [],
   "source": [
    "#2.7 Lambda function\n",
    "rdd2 = df.rdd.map(lambda x: (x[\"Edad\"]+\",\"+x[\"Unidad de medida de edad\"]))\n",
    "\n",
    "def func1(x):\n",
    "    edadCompleta=x[\"Edad\"]+\",\"+x[\"Unidad de medida de edad\"]\n",
    "    return (edadCompleta)\n",
    "\n",
    "rdd2=df.rdd.map(lambda x: func1(x))\n",
    "print(rdd2)"
   ]
  },
  {
   "cell_type": "code",
   "execution_count": null,
   "metadata": {},
   "outputs": [],
   "source": [
    "#3\n",
    "\n",
    "oldColumns = data.schema.names\n",
    "newColumns = [\"FechaReporteWeb\", \"IdCaso\", \"FechaNotificación\", \"CodDIVIPOLAdepartamento\", \"Departamento\", \n",
    "              \"CodigoDIVIPOLAmunicipio\", \"Municipio\", \"Edad\"\n",
    " |-- Unidad de medida de edad\n",
    " |-- Sexo\n",
    " |-- Tipo de contagio\n",
    " |-- Ubicación del caso\n",
    " |-- Estado\n",
    " |-- Código ISO del país\n",
    " |-- Nombre del país\n",
    " |-- Recuperado\n",
    " |-- Fecha de inicio de síntomas\n",
    " |-- Fecha de muerte\n",
    " |-- Fecha de diagnóstico\n",
    " |-- Fecha de recuperación\n",
    " |-- Tipo de recuperación\n",
    " |-- Pertenencia étnica\n",
    " |-- Nombre del grupo étnico\n",
    "\n",
    "df = reduce(lambda data, idx: data.withColumnRenamed(oldColumns[idx], newColumns[idx]), xrange(len(oldColumns)), data)\n",
    "df.printSchema()\n",
    "df.show()\n"
   ]
  },
  {
   "cell_type": "code",
   "execution_count": null,
   "metadata": {},
   "outputs": [],
   "source": [
    "#3.1 - 10 departamentos con más casos de covid en Colombia ordenados de mayor a menor.\n",
    "tres_uno = df.groupBy(\"Nombre departamento\").count().orderBy('count', ascending=False)\n",
    "tres_uno.coalesce(1).write.csv(\"s3a://datasetsfperezm1/tres/tres_uno\", header = True)"
   ]
  },
  {
   "cell_type": "code",
   "execution_count": null,
   "metadata": {},
   "outputs": [],
   "source": [
    "#3.2 - 10 días con más casos de covid en Colombia ordenados de mayor a menor.\n",
    "tres_dos = df.groupBy(\"Nombre municipio\").count().orderBy('count', ascending=False)\n",
    "tres_dos.coalesce(1).write.csv(\"s3a://datasetsfperezm1/tres/tres_dos\", header = True)"
   ]
  },
  {
   "cell_type": "code",
   "execution_count": null,
   "metadata": {},
   "outputs": [],
   "source": [
    "#3.3 - 10 días con más casos de covid en Colombia ordenados de mayor a menor.\n",
    "tres_tres = df.groupBy(\"fecha reporte web\").count().orderBy('count', ascending=False)\n",
    "tres_tres.coalesce(1).write.csv(\"s3a://datasetsfperezm1/tres/tres_tres\", header = True)"
   ]
  },
  {
   "cell_type": "code",
   "execution_count": null,
   "metadata": {},
   "outputs": [],
   "source": [
    "#3.4 - Distribución de casos por edades de covid en Colombia.\n",
    "tot = df.count()\n",
    "tres_cuatro = df.groupBy(\"Edad\") \\\n",
    "              .count() \\\n",
    "              .withColumnRenamed('count', 'cnt_per_group') \\\n",
    "              .withColumn('perc_of_count_total', (F.col('cnt_per_group') / tot) * 100 ) \\\n",
    "              .orderBy('count', ascending=False)\n",
    "tres_cuatro.coalesce(1).write.csv(\"s3a://datasetsfperezm1/tres/tres_cuatro\", header = True)"
   ]
  },
  {
   "cell_type": "code",
   "execution_count": null,
   "metadata": {},
   "outputs": [],
   "source": [
    "#3.5 - Numero de casos entre hombres y mujeres\n",
    "tres_cinco = df.groupBy(\"Sexo\").count().orderBy('count', ascending=False)\n",
    "tres_cinco.coalesce(1).write.csv(\"s3a://datasetsfperezm1/tres/tres_cinco\", header = True)"
   ]
  }
 ],
 "metadata": {
  "kernelspec": {
   "display_name": "PySpark",
   "language": "",
   "name": "pysparkkernel"
  },
  "language_info": {
   "codemirror_mode": {
    "name": "python",
    "version": 3
   },
   "mimetype": "text/x-python",
   "name": "pyspark",
   "pygments_lexer": "python3"
  }
 },
 "nbformat": 4,
 "nbformat_minor": 4
}
