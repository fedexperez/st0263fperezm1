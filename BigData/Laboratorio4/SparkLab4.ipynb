{
 "cells": [
  {
   "cell_type": "code",
   "execution_count": null,
   "metadata": {},
   "outputs": [],
   "source": [
    "#import SparkSession\n",
    "from pyspark.sql import SparkSession\n",
    "import pyspark.sql.functions as F\n",
    "from pyspark.sql.functions import col\n",
    "from pyspark.sql.functions import desc\n",
    "import functools"
   ]
  },
  {
   "cell_type": "code",
   "execution_count": null,
   "metadata": {},
   "outputs": [],
   "source": [
    "#create spark session object\n",
    "spark=SparkSession.builder.appName('data_processing').getOrCreate()"
   ]
  },
  {
   "cell_type": "code",
   "execution_count": null,
   "metadata": {},
   "outputs": [],
   "source": [
    "# Load csv Dataset \n",
    "df=spark.read.csv('s3://datasetsfperezm1/covid/new/part-00000-398de3f2-507f-4d83-ada0-75cfdee18a5e-c000.csv',inferSchema=True,header=True)"
   ]
  },
  {
   "cell_type": "code",
   "execution_count": null,
   "metadata": {},
   "outputs": [],
   "source": [
    "#3\n",
    "newColumns = [\"FechaReporteWeb\", \"IdCaso\", \"FechaNotificacion\", \"CodDIVIPOLAdepartamento\", \"Departamento\", \n",
    "              \"CodigoDIVIPOLAmunicipio\", \"Municipio\", \"Edad\", \"MedidaEdad\", \"Sexo\", \"TipoContagio\", \"UbicacionCaso\",\n",
    "              \"Estado\", \"CodigoIsoPais\", \"Pais\", \"Recuperado\", \"FechaInicioSintomas\", \"FechaMuerte\", \"FechaDiagnostico\",\n",
    "              \"FechaRecuperacion\", \"TipoRecuperacion\", \"PertenenciaEtnica\", \"NombreGrupoEtnico\"]\n",
    "df.toDF(*newColumns).coalesce(1).write.csv(\"s3a://datasetsfperezm1/covid/new\", header = True)"
   ]
  },
  {
   "cell_type": "code",
   "execution_count": null,
   "metadata": {},
   "outputs": [],
   "source": [
    "# Register the DataFrame as a SQL temporary view\n",
    "df.createOrReplaceTempView(\"covid\")"
   ]
  },
  {
   "cell_type": "code",
   "execution_count": null,
   "metadata": {},
   "outputs": [],
   "source": [
    "sqlDF = spark.sql(\"SELECT * FROM covid\")\n",
    "sqlDF.show(5)"
   ]
  },
  {
   "cell_type": "code",
   "execution_count": null,
   "metadata": {},
   "outputs": [],
   "source": [
    "#2.1 Los 10 departamentos con más casos de covid en Colombia ordenados de mayor a menor.\n",
    "sqlDF = spark.sql(\"SELECT Departamento, COUNT(*) AS numInstances FROM covid GROUP BY Departamento ORDER BY numInstances DESC;\")\n",
    "#sqlDF.coalesce(1).write.csv(\"s3a://datasetsfperezm1/lab4/dos_uno\", header = True)\n",
    "sqlDF.show(10)"
   ]
  },
  {
   "cell_type": "code",
   "execution_count": null,
   "metadata": {},
   "outputs": [],
   "source": [
    "#2.2 Las 10 ciudades con más casos de covid en Colombia ordenados de mayor a menor.\n",
    "sqlDosDos = spark.sql(\"SELECT Municipio, COUNT(*) AS casos FROM covid GROUP BY Municipio ORDER BY casos DESC;\")\n",
    "#sqlDosDos.coalesce(1).write.csv(\"s3a://datasetsfperezm1/lab4/dos_dos\", header = True)\n",
    "sqlDosDos.show(10)"
   ]
  },
  {
   "cell_type": "code",
   "execution_count": null,
   "metadata": {},
   "outputs": [],
   "source": [
    "#2.3 Los 10 días con más casos de covid en Colombia ordenados de mayor a menor.\n",
    "sqlDosTres = spark.sql(\"SELECT FechaReporteWeb, COUNT(*) AS casos FROM covid GROUP BY FechaReporteWeb ORDER BY casos DESC;\")\n",
    "#sqlDosTres.coalesce(1).write.csv(\"s3a://datasetsfperezm1/lab4/dos_tres\", header = True)\n",
    "sqlDosTres.show(10)"
   ]
  },
  {
   "cell_type": "code",
   "execution_count": null,
   "metadata": {},
   "outputs": [],
   "source": [
    "#2.4 - Distribución de casos por edades de covid en Colombia.\n",
    "sqlDosCuatro = spark.sql(\"SELECT Edad,( COUNT(*) / (select count(*) from covid) )* 100 AS casos FROM covid GROUP BY Edad ORDER BY casos DESC;\")\n",
    "#sqlDosCuatro.coalesce(1).write.csv(\"s3a://datasetsfperezm1/lab4/dos_cuatro\", header = True)\n",
    "sqlDosCuatro.show(10)"
   ]
  },
  {
   "cell_type": "code",
   "execution_count": null,
   "metadata": {},
   "outputs": [],
   "source": [
    "#2.5 - Numero de casos entre hombres y mujeres\n",
    "sqlDosCinco = spark.sql(\"SELECT Sexo, COUNT(*) AS casos FROM covid GROUP BY Sexo ORDER BY casos DESC;\")\n",
    "#sqlDosCinco.coalesce(1).write.csv(\"s3a://datasetsfperezm1/lab4/dos_cinco\", header = True)\n",
    "sqlDosCinco.show(4)"
   ]
  },
  {
   "cell_type": "code",
   "execution_count": null,
   "metadata": {},
   "outputs": [],
   "source": []
  }
 ],
 "metadata": {
  "kernelspec": {
   "display_name": "PySpark",
   "language": "",
   "name": "pysparkkernel"
  },
  "language_info": {
   "codemirror_mode": {
    "name": "python",
    "version": 3
   },
   "mimetype": "text/x-python",
   "name": "pyspark",
   "pygments_lexer": "python3"
  }
 },
 "nbformat": 4,
 "nbformat_minor": 4
}
